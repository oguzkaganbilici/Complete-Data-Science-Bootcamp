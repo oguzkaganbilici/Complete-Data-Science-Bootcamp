{
 "cells": [
  {
   "cell_type": "code",
   "execution_count": 1,
   "id": "385f9f4a",
   "metadata": {},
   "outputs": [],
   "source": [
    "import numpy as np\n",
    "import pandas as pd\n",
    "import statsmodels.api as sm\n",
    "import matplotlib.pyplot as plt\n",
    "import seaborn as sns\n",
    "sns.set()"
   ]
  },
  {
   "cell_type": "code",
   "execution_count": 2,
   "id": "1a7fd762",
   "metadata": {},
   "outputs": [
    {
     "data": {
      "text/html": [
       "<div>\n",
       "<style scoped>\n",
       "    .dataframe tbody tr th:only-of-type {\n",
       "        vertical-align: middle;\n",
       "    }\n",
       "\n",
       "    .dataframe tbody tr th {\n",
       "        vertical-align: top;\n",
       "    }\n",
       "\n",
       "    .dataframe thead th {\n",
       "        text-align: right;\n",
       "    }\n",
       "</style>\n",
       "<table border=\"1\" class=\"dataframe\">\n",
       "  <thead>\n",
       "    <tr style=\"text-align: right;\">\n",
       "      <th></th>\n",
       "      <th>SAT</th>\n",
       "      <th>Admitted</th>\n",
       "      <th>Gender</th>\n",
       "    </tr>\n",
       "  </thead>\n",
       "  <tbody>\n",
       "    <tr>\n",
       "      <th>0</th>\n",
       "      <td>1363</td>\n",
       "      <td>No</td>\n",
       "      <td>Male</td>\n",
       "    </tr>\n",
       "    <tr>\n",
       "      <th>1</th>\n",
       "      <td>1792</td>\n",
       "      <td>Yes</td>\n",
       "      <td>Female</td>\n",
       "    </tr>\n",
       "    <tr>\n",
       "      <th>2</th>\n",
       "      <td>1954</td>\n",
       "      <td>Yes</td>\n",
       "      <td>Female</td>\n",
       "    </tr>\n",
       "    <tr>\n",
       "      <th>3</th>\n",
       "      <td>1653</td>\n",
       "      <td>No</td>\n",
       "      <td>Male</td>\n",
       "    </tr>\n",
       "    <tr>\n",
       "      <th>4</th>\n",
       "      <td>1593</td>\n",
       "      <td>No</td>\n",
       "      <td>Male</td>\n",
       "    </tr>\n",
       "  </tbody>\n",
       "</table>\n",
       "</div>"
      ],
      "text/plain": [
       "    SAT Admitted  Gender\n",
       "0  1363       No    Male\n",
       "1  1792      Yes  Female\n",
       "2  1954      Yes  Female\n",
       "3  1653       No    Male\n",
       "4  1593       No    Male"
      ]
     },
     "execution_count": 2,
     "metadata": {},
     "output_type": "execute_result"
    }
   ],
   "source": [
    "raw_data = pd.read_csv(\"2.02.+Binary+predictors.csv\")\n",
    "raw_data.head()"
   ]
  },
  {
   "cell_type": "code",
   "execution_count": 3,
   "id": "7c65b9a1",
   "metadata": {},
   "outputs": [
    {
     "data": {
      "text/html": [
       "<div>\n",
       "<style scoped>\n",
       "    .dataframe tbody tr th:only-of-type {\n",
       "        vertical-align: middle;\n",
       "    }\n",
       "\n",
       "    .dataframe tbody tr th {\n",
       "        vertical-align: top;\n",
       "    }\n",
       "\n",
       "    .dataframe thead th {\n",
       "        text-align: right;\n",
       "    }\n",
       "</style>\n",
       "<table border=\"1\" class=\"dataframe\">\n",
       "  <thead>\n",
       "    <tr style=\"text-align: right;\">\n",
       "      <th></th>\n",
       "      <th>SAT</th>\n",
       "      <th>Admitted</th>\n",
       "      <th>Gender</th>\n",
       "    </tr>\n",
       "  </thead>\n",
       "  <tbody>\n",
       "    <tr>\n",
       "      <th>0</th>\n",
       "      <td>1363</td>\n",
       "      <td>0</td>\n",
       "      <td>0</td>\n",
       "    </tr>\n",
       "    <tr>\n",
       "      <th>1</th>\n",
       "      <td>1792</td>\n",
       "      <td>1</td>\n",
       "      <td>1</td>\n",
       "    </tr>\n",
       "    <tr>\n",
       "      <th>2</th>\n",
       "      <td>1954</td>\n",
       "      <td>1</td>\n",
       "      <td>1</td>\n",
       "    </tr>\n",
       "    <tr>\n",
       "      <th>3</th>\n",
       "      <td>1653</td>\n",
       "      <td>0</td>\n",
       "      <td>0</td>\n",
       "    </tr>\n",
       "    <tr>\n",
       "      <th>4</th>\n",
       "      <td>1593</td>\n",
       "      <td>0</td>\n",
       "      <td>0</td>\n",
       "    </tr>\n",
       "  </tbody>\n",
       "</table>\n",
       "</div>"
      ],
      "text/plain": [
       "    SAT  Admitted  Gender\n",
       "0  1363         0       0\n",
       "1  1792         1       1\n",
       "2  1954         1       1\n",
       "3  1653         0       0\n",
       "4  1593         0       0"
      ]
     },
     "execution_count": 3,
     "metadata": {},
     "output_type": "execute_result"
    }
   ],
   "source": [
    "dt = raw_data.copy()\n",
    "dt[\"Admitted\"] = dt[\"Admitted\"].map({\"Yes\":1 , \"No\":0 })\n",
    "dt[\"Gender\"] = dt[\"Gender\"].map({\"Male\":0, \"Female\":1})\n",
    "dt.head()"
   ]
  },
  {
   "cell_type": "code",
   "execution_count": 4,
   "id": "170fb982",
   "metadata": {},
   "outputs": [],
   "source": [
    "y = dt[\"Admitted\"]\n",
    "#x1 = dt[[\"SAT\", \"Gender\"]]\n",
    "x1 = dt[\"Gender\"]"
   ]
  },
  {
   "cell_type": "code",
   "execution_count": 5,
   "id": "f7cbfae4",
   "metadata": {},
   "outputs": [
    {
     "name": "stdout",
     "output_type": "stream",
     "text": [
      "Optimization terminated successfully.\n",
      "         Current function value: 0.572260\n",
      "         Iterations 5\n"
     ]
    },
    {
     "data": {
      "text/html": [
       "<table class=\"simpletable\">\n",
       "<caption>Logit Regression Results</caption>\n",
       "<tr>\n",
       "  <th>Dep. Variable:</th>       <td>Admitted</td>     <th>  No. Observations:  </th>  <td>   168</td>  \n",
       "</tr>\n",
       "<tr>\n",
       "  <th>Model:</th>                 <td>Logit</td>      <th>  Df Residuals:      </th>  <td>   166</td>  \n",
       "</tr>\n",
       "<tr>\n",
       "  <th>Method:</th>                 <td>MLE</td>       <th>  Df Model:          </th>  <td>     1</td>  \n",
       "</tr>\n",
       "<tr>\n",
       "  <th>Date:</th>            <td>Mon, 17 Jul 2023</td> <th>  Pseudo R-squ.:     </th>  <td>0.1659</td>  \n",
       "</tr>\n",
       "<tr>\n",
       "  <th>Time:</th>                <td>13:44:07</td>     <th>  Log-Likelihood:    </th> <td> -96.140</td> \n",
       "</tr>\n",
       "<tr>\n",
       "  <th>converged:</th>             <td>True</td>       <th>  LL-Null:           </th> <td> -115.26</td> \n",
       "</tr>\n",
       "<tr>\n",
       "  <th>Covariance Type:</th>     <td>nonrobust</td>    <th>  LLR p-value:       </th> <td>6.283e-10</td>\n",
       "</tr>\n",
       "</table>\n",
       "<table class=\"simpletable\">\n",
       "<tr>\n",
       "     <td></td>       <th>coef</th>     <th>std err</th>      <th>z</th>      <th>P>|z|</th>  <th>[0.025</th>    <th>0.975]</th>  \n",
       "</tr>\n",
       "<tr>\n",
       "  <th>const</th>  <td>   -0.6436</td> <td>    0.222</td> <td>   -2.901</td> <td> 0.004</td> <td>   -1.078</td> <td>   -0.209</td>\n",
       "</tr>\n",
       "<tr>\n",
       "  <th>Gender</th> <td>    2.0786</td> <td>    0.363</td> <td>    5.727</td> <td> 0.000</td> <td>    1.367</td> <td>    2.790</td>\n",
       "</tr>\n",
       "</table>"
      ],
      "text/plain": [
       "<class 'statsmodels.iolib.summary.Summary'>\n",
       "\"\"\"\n",
       "                           Logit Regression Results                           \n",
       "==============================================================================\n",
       "Dep. Variable:               Admitted   No. Observations:                  168\n",
       "Model:                          Logit   Df Residuals:                      166\n",
       "Method:                           MLE   Df Model:                            1\n",
       "Date:                Mon, 17 Jul 2023   Pseudo R-squ.:                  0.1659\n",
       "Time:                        13:44:07   Log-Likelihood:                -96.140\n",
       "converged:                       True   LL-Null:                       -115.26\n",
       "Covariance Type:            nonrobust   LLR p-value:                 6.283e-10\n",
       "==============================================================================\n",
       "                 coef    std err          z      P>|z|      [0.025      0.975]\n",
       "------------------------------------------------------------------------------\n",
       "const         -0.6436      0.222     -2.901      0.004      -1.078      -0.209\n",
       "Gender         2.0786      0.363      5.727      0.000       1.367       2.790\n",
       "==============================================================================\n",
       "\"\"\""
      ]
     },
     "execution_count": 5,
     "metadata": {},
     "output_type": "execute_result"
    }
   ],
   "source": [
    "x = sm.add_constant(x1)\n",
    "reg = sm.Logit(y, x)\n",
    "result = reg.fit()\n",
    "result.summary()"
   ]
  },
  {
   "cell_type": "markdown",
   "id": "4f8aa494",
   "metadata": {},
   "source": [
    "- #### log(odds) = -0.64 + 2.08 * Gender\n",
    "\n",
    "       log(odds2) = -0.64 + 2.08 * Gender2\n",
    "       log(odds1) = -0.64 + 2.08 * Gender1\n",
    "       =\n",
    "       log(odds2/odds1) = 2.08(Gender2-Gender1) -> Gender has only 1 or 0 options\n",
    "       =\n",
    "       log(oddsFemale / oddsMale) = 2.08 * (1 - 0)\n",
    "       =\n",
    "       oddsFemale = 7.99 * oddsMale\n",
    "       \n"
   ]
  },
  {
   "cell_type": "markdown",
   "id": "61b980b9",
   "metadata": {},
   "source": [
    "# New regression"
   ]
  },
  {
   "cell_type": "code",
   "execution_count": 6,
   "id": "97e30167",
   "metadata": {},
   "outputs": [],
   "source": [
    "y = dt[\"Admitted\"]\n",
    "x1 = dt[[\"SAT\", \"Gender\"]]"
   ]
  },
  {
   "cell_type": "code",
   "execution_count": 7,
   "id": "13ddfcfa",
   "metadata": {},
   "outputs": [
    {
     "name": "stdout",
     "output_type": "stream",
     "text": [
      "Optimization terminated successfully.\n",
      "         Current function value: 0.120117\n",
      "         Iterations 10\n"
     ]
    },
    {
     "data": {
      "text/html": [
       "<table class=\"simpletable\">\n",
       "<caption>Logit Regression Results</caption>\n",
       "<tr>\n",
       "  <th>Dep. Variable:</th>       <td>Admitted</td>     <th>  No. Observations:  </th>  <td>   168</td>  \n",
       "</tr>\n",
       "<tr>\n",
       "  <th>Model:</th>                 <td>Logit</td>      <th>  Df Residuals:      </th>  <td>   165</td>  \n",
       "</tr>\n",
       "<tr>\n",
       "  <th>Method:</th>                 <td>MLE</td>       <th>  Df Model:          </th>  <td>     2</td>  \n",
       "</tr>\n",
       "<tr>\n",
       "  <th>Date:</th>            <td>Mon, 17 Jul 2023</td> <th>  Pseudo R-squ.:     </th>  <td>0.8249</td>  \n",
       "</tr>\n",
       "<tr>\n",
       "  <th>Time:</th>                <td>13:44:07</td>     <th>  Log-Likelihood:    </th> <td> -20.180</td> \n",
       "</tr>\n",
       "<tr>\n",
       "  <th>converged:</th>             <td>True</td>       <th>  LL-Null:           </th> <td> -115.26</td> \n",
       "</tr>\n",
       "<tr>\n",
       "  <th>Covariance Type:</th>     <td>nonrobust</td>    <th>  LLR p-value:       </th> <td>5.118e-42</td>\n",
       "</tr>\n",
       "</table>\n",
       "<table class=\"simpletable\">\n",
       "<tr>\n",
       "     <td></td>       <th>coef</th>     <th>std err</th>      <th>z</th>      <th>P>|z|</th>  <th>[0.025</th>    <th>0.975]</th>  \n",
       "</tr>\n",
       "<tr>\n",
       "  <th>const</th>  <td>  -68.3489</td> <td>   16.454</td> <td>   -4.154</td> <td> 0.000</td> <td> -100.598</td> <td>  -36.100</td>\n",
       "</tr>\n",
       "<tr>\n",
       "  <th>SAT</th>    <td>    0.0406</td> <td>    0.010</td> <td>    4.129</td> <td> 0.000</td> <td>    0.021</td> <td>    0.060</td>\n",
       "</tr>\n",
       "<tr>\n",
       "  <th>Gender</th> <td>    1.9449</td> <td>    0.846</td> <td>    2.299</td> <td> 0.022</td> <td>    0.287</td> <td>    3.603</td>\n",
       "</tr>\n",
       "</table><br/><br/>Possibly complete quasi-separation: A fraction 0.27 of observations can be<br/>perfectly predicted. This might indicate that there is complete<br/>quasi-separation. In this case some parameters will not be identified."
      ],
      "text/plain": [
       "<class 'statsmodels.iolib.summary.Summary'>\n",
       "\"\"\"\n",
       "                           Logit Regression Results                           \n",
       "==============================================================================\n",
       "Dep. Variable:               Admitted   No. Observations:                  168\n",
       "Model:                          Logit   Df Residuals:                      165\n",
       "Method:                           MLE   Df Model:                            2\n",
       "Date:                Mon, 17 Jul 2023   Pseudo R-squ.:                  0.8249\n",
       "Time:                        13:44:07   Log-Likelihood:                -20.180\n",
       "converged:                       True   LL-Null:                       -115.26\n",
       "Covariance Type:            nonrobust   LLR p-value:                 5.118e-42\n",
       "==============================================================================\n",
       "                 coef    std err          z      P>|z|      [0.025      0.975]\n",
       "------------------------------------------------------------------------------\n",
       "const        -68.3489     16.454     -4.154      0.000    -100.598     -36.100\n",
       "SAT            0.0406      0.010      4.129      0.000       0.021       0.060\n",
       "Gender         1.9449      0.846      2.299      0.022       0.287       3.603\n",
       "==============================================================================\n",
       "\n",
       "Possibly complete quasi-separation: A fraction 0.27 of observations can be\n",
       "perfectly predicted. This might indicate that there is complete\n",
       "quasi-separation. In this case some parameters will not be identified.\n",
       "\"\"\""
      ]
     },
     "execution_count": 7,
     "metadata": {},
     "output_type": "execute_result"
    }
   ],
   "source": [
    "x = sm.add_constant(x1)\n",
    "reg = sm.Logit(y, x)\n",
    "result = reg.fit()\n",
    "result.summary()"
   ]
  },
  {
   "cell_type": "markdown",
   "id": "1f633a7f",
   "metadata": {},
   "source": [
    "- #### log-likelihood is higher which is better model"
   ]
  },
  {
   "cell_type": "markdown",
   "id": "1a0b3a0e",
   "metadata": {},
   "source": [
    "- #### for same SAT score, a female has 7(exp(1.9449)) times higher odds to get admitted"
   ]
  },
  {
   "cell_type": "markdown",
   "id": "cf2cbccc",
   "metadata": {},
   "source": [
    "# Accuracy"
   ]
  },
  {
   "cell_type": "code",
   "execution_count": 9,
   "id": "fbf30d2c",
   "metadata": {},
   "outputs": [
    {
     "data": {
      "text/plain": [
       "array([2.24098643e-06, 9.98264069e-01, 9.99997581e-01, 2.25470272e-01,\n",
       "       2.48392751e-02, 9.92249420e-01, 9.96544212e-01, 9.99963261e-01,\n",
       "       9.99971204e-01, 1.48031753e-02, 9.99875812e-01, 9.99951185e-01,\n",
       "       7.60867651e-01, 2.33384671e-06, 5.96283811e-01, 9.99834996e-01,\n",
       "       1.14446654e-01, 1.18626448e-01, 5.05147726e-01, 9.99865308e-01,\n",
       "       9.99999366e-01, 9.99997048e-01, 1.71939595e-04, 5.61635704e-03,\n",
       "       9.68663798e-01, 9.99644611e-01, 4.84851641e-01, 9.91962775e-01,\n",
       "       9.99828160e-01, 9.94609023e-01, 1.15028367e-04, 8.32585363e-01,\n",
       "       2.47449367e-01, 9.99998840e-01, 9.98847293e-01, 9.99372736e-01,\n",
       "       3.12716933e-01, 9.99932453e-01, 2.32639633e-01, 5.29744519e-05,\n",
       "       1.95739604e-02, 4.54521689e-01, 9.99956956e-01, 2.97763113e-06,\n",
       "       9.94178832e-01, 1.77714430e-05, 9.93914956e-01, 2.29360536e-04,\n",
       "       3.30501192e-04, 6.89914934e-03, 4.24966754e-03, 9.99999657e-01,\n",
       "       9.23952460e-01, 2.28569785e-02, 9.99994550e-01, 5.47478329e-06,\n",
       "       3.67295456e-01, 9.82709744e-01, 1.18626448e-01, 9.96812884e-01,\n",
       "       4.42498320e-03, 7.83001539e-01, 9.99992146e-01, 9.98405619e-01,\n",
       "       9.84722411e-01, 4.16877326e-05, 5.93790185e-06, 1.36735818e-03,\n",
       "       9.99998969e-01, 4.16877326e-05, 7.76023661e-01, 1.18626448e-01,\n",
       "       9.45435107e-04, 9.88912497e-01, 9.99058879e-01, 9.99982380e-01,\n",
       "       1.65760554e-04, 3.04057622e-01, 9.99983689e-01, 9.99999439e-01,\n",
       "       3.20169382e-03, 9.99092676e-01, 9.99998514e-01, 8.54018056e-01,\n",
       "       9.99999841e-01, 9.99999797e-01, 1.94984937e-04, 9.99993869e-01,\n",
       "       9.97874170e-01, 8.90053126e-01, 8.26849331e-01, 1.66794418e-03,\n",
       "       9.82709744e-01, 9.68663798e-01, 4.57280919e-04, 9.99988727e-01,\n",
       "       9.99780769e-01, 3.01439361e-02, 9.94609023e-01, 9.57153060e-01,\n",
       "       9.96544212e-01, 2.05076737e-03, 9.97289354e-01, 1.42225547e-02,\n",
       "       1.15939831e-02, 9.96939307e-01, 9.95595140e-01, 9.99525954e-01,\n",
       "       2.69794875e-04, 1.35309631e-04, 2.29464135e-02, 3.30429262e-01,\n",
       "       9.38962885e-05, 9.99994550e-01, 8.54173688e-02, 6.90365056e-07,\n",
       "       9.69873058e-01, 2.11475559e-04, 7.45781524e-01, 9.99894427e-01,\n",
       "       9.99994975e-01, 1.07417839e-02, 5.61635704e-03, 3.40287420e-05,\n",
       "       9.99968769e-01, 4.42498320e-03, 9.86397174e-01, 5.66650756e-01,\n",
       "       5.36533219e-01, 8.69014312e-01, 8.26849331e-01, 2.11475559e-04,\n",
       "       9.99998252e-01, 2.13556422e-03, 4.21630759e-04, 6.32662368e-04,\n",
       "       9.99998926e-01, 4.30350893e-02, 1.14569602e-04, 5.87100388e-03,\n",
       "       9.96267866e-01, 9.93664406e-01, 5.16291768e-01, 9.96252976e-01,\n",
       "       9.99562910e-01, 5.40573324e-02, 8.75249154e-04, 3.50270235e-06,\n",
       "       1.09176200e-05, 6.80358735e-01, 9.99997769e-01, 9.99960313e-01,\n",
       "       9.97609015e-01, 9.99798670e-01, 9.99643188e-01, 3.44191566e-04,\n",
       "       9.99999929e-01, 9.98847293e-01, 3.66799700e-02, 9.99999834e-01,\n",
       "       2.48392751e-02, 9.99994550e-01, 9.93689517e-01, 9.71037049e-01,\n",
       "       9.37280353e-01, 5.41558024e-03, 1.54420446e-03, 1.19794265e-04])"
      ]
     },
     "execution_count": 9,
     "metadata": {},
     "output_type": "execute_result"
    }
   ],
   "source": [
    "result.predict()"
   ]
  },
  {
   "cell_type": "code",
   "execution_count": 10,
   "id": "4f013d75",
   "metadata": {},
   "outputs": [
    {
     "data": {
      "text/plain": [
       "array([0.00, 1.00, 1.00, 0.23, 0.02, 0.99, 1.00, 1.00, 1.00, 0.01, 1.00,\n",
       "       1.00, 0.76, 0.00, 0.60, 1.00, 0.11, 0.12, 0.51, 1.00, 1.00, 1.00,\n",
       "       0.00, 0.01, 0.97, 1.00, 0.48, 0.99, 1.00, 0.99, 0.00, 0.83, 0.25,\n",
       "       1.00, 1.00, 1.00, 0.31, 1.00, 0.23, 0.00, 0.02, 0.45, 1.00, 0.00,\n",
       "       0.99, 0.00, 0.99, 0.00, 0.00, 0.01, 0.00, 1.00, 0.92, 0.02, 1.00,\n",
       "       0.00, 0.37, 0.98, 0.12, 1.00, 0.00, 0.78, 1.00, 1.00, 0.98, 0.00,\n",
       "       0.00, 0.00, 1.00, 0.00, 0.78, 0.12, 0.00, 0.99, 1.00, 1.00, 0.00,\n",
       "       0.30, 1.00, 1.00, 0.00, 1.00, 1.00, 0.85, 1.00, 1.00, 0.00, 1.00,\n",
       "       1.00, 0.89, 0.83, 0.00, 0.98, 0.97, 0.00, 1.00, 1.00, 0.03, 0.99,\n",
       "       0.96, 1.00, 0.00, 1.00, 0.01, 0.01, 1.00, 1.00, 1.00, 0.00, 0.00,\n",
       "       0.02, 0.33, 0.00, 1.00, 0.09, 0.00, 0.97, 0.00, 0.75, 1.00, 1.00,\n",
       "       0.01, 0.01, 0.00, 1.00, 0.00, 0.99, 0.57, 0.54, 0.87, 0.83, 0.00,\n",
       "       1.00, 0.00, 0.00, 0.00, 1.00, 0.04, 0.00, 0.01, 1.00, 0.99, 0.52,\n",
       "       1.00, 1.00, 0.05, 0.00, 0.00, 0.00, 0.68, 1.00, 1.00, 1.00, 1.00,\n",
       "       1.00, 0.00, 1.00, 1.00, 0.04, 1.00, 0.02, 1.00, 0.99, 0.97, 0.94,\n",
       "       0.01, 0.00, 0.00])"
      ]
     },
     "execution_count": 10,
     "metadata": {},
     "output_type": "execute_result"
    }
   ],
   "source": [
    "# better format\n",
    "np.set_printoptions(formatter={\"float\": lambda x :\"{0:0.2f}\".format(x)})\n",
    "result.predict()"
   ]
  },
  {
   "cell_type": "markdown",
   "id": "50cc344e",
   "metadata": {},
   "source": [
    "- #### we gonna round below 0.5 to 0, abone 0.5 to 1 and check whether how many value match with real data. "
   ]
  },
  {
   "cell_type": "code",
   "execution_count": 12,
   "id": "a260ecf2",
   "metadata": {},
   "outputs": [
    {
     "data": {
      "text/plain": [
       "array([0, 1, 1, 0, 0, 1, 1, 1, 1, 0, 1, 1, 1, 0, 0, 1, 0, 0, 1, 1, 1, 1,\n",
       "       0, 0, 1, 1, 1, 1, 1, 1, 0, 1, 0, 1, 1, 1, 0, 1, 0, 0, 0, 1, 1, 0,\n",
       "       1, 0, 1, 0, 0, 0, 0, 1, 0, 0, 1, 0, 0, 1, 0, 1, 0, 1, 1, 1, 1, 0,\n",
       "       0, 0, 1, 0, 1, 1, 0, 1, 1, 1, 0, 1, 1, 1, 0, 1, 1, 0, 1, 1, 0, 1,\n",
       "       1, 1, 0, 0, 1, 1, 0, 1, 1, 0, 1, 1, 1, 0, 1, 0, 0, 1, 1, 1, 0, 0,\n",
       "       0, 0, 0, 1, 0, 0, 1, 0, 1, 1, 1, 0, 0, 0, 1, 0, 1, 0, 1, 1, 1, 0,\n",
       "       1, 0, 0, 0, 1, 0, 0, 0, 1, 1, 1, 1, 1, 0, 0, 0, 0, 1, 1, 1, 1, 1,\n",
       "       1, 0, 1, 1, 0, 1, 0, 1, 1, 1, 1, 0, 0, 0], dtype=int64)"
      ]
     },
     "execution_count": 12,
     "metadata": {},
     "output_type": "execute_result"
    }
   ],
   "source": [
    "# real data\n",
    "np.array(dt[\"Admitted\"])"
   ]
  },
  {
   "cell_type": "markdown",
   "id": "87f4dcdf",
   "metadata": {},
   "source": [
    "- #### comparing 2 array is very diffucult. there is method for do this. "
   ]
  },
  {
   "cell_type": "code",
   "execution_count": 14,
   "id": "0602ecb3",
   "metadata": {},
   "outputs": [
    {
     "data": {
      "text/plain": [
       "array([[69.00, 5.00],\n",
       "       [4.00, 90.00]])"
      ]
     },
     "execution_count": 14,
     "metadata": {},
     "output_type": "execute_result"
    }
   ],
   "source": [
    "result.pred_table()"
   ]
  },
  {
   "cell_type": "code",
   "execution_count": 16,
   "id": "0d46bfd1",
   "metadata": {},
   "outputs": [
    {
     "data": {
      "text/html": [
       "<div>\n",
       "<style scoped>\n",
       "    .dataframe tbody tr th:only-of-type {\n",
       "        vertical-align: middle;\n",
       "    }\n",
       "\n",
       "    .dataframe tbody tr th {\n",
       "        vertical-align: top;\n",
       "    }\n",
       "\n",
       "    .dataframe thead th {\n",
       "        text-align: right;\n",
       "    }\n",
       "</style>\n",
       "<table border=\"1\" class=\"dataframe\">\n",
       "  <thead>\n",
       "    <tr style=\"text-align: right;\">\n",
       "      <th></th>\n",
       "      <th>Predicted 0</th>\n",
       "      <th>Predicted 1</th>\n",
       "    </tr>\n",
       "  </thead>\n",
       "  <tbody>\n",
       "    <tr>\n",
       "      <th>Actual 0</th>\n",
       "      <td>69.0</td>\n",
       "      <td>5.0</td>\n",
       "    </tr>\n",
       "    <tr>\n",
       "      <th>Actual 1</th>\n",
       "      <td>4.0</td>\n",
       "      <td>90.0</td>\n",
       "    </tr>\n",
       "  </tbody>\n",
       "</table>\n",
       "</div>"
      ],
      "text/plain": [
       "          Predicted 0  Predicted 1\n",
       "Actual 0         69.0          5.0\n",
       "Actual 1          4.0         90.0"
      ]
     },
     "execution_count": 16,
     "metadata": {},
     "output_type": "execute_result"
    }
   ],
   "source": [
    "pred = pd.DataFrame(result.pred_table())\n",
    "pred.columns = [\"Predicted 0\", \"Predicted 1\"]\n",
    "pred = pred.rename(index={0:\"Actual 0\", 1:\"Actual 1\"})\n",
    "pred"
   ]
  },
  {
   "cell_type": "markdown",
   "id": "0adb6cd1",
   "metadata": {},
   "source": [
    "- #### Our model predicted 69 \"0\" value which are \"0\" in data - true\n",
    "- #### Our model predicted 5 \"0\" value which are \"1\" in data - false\n",
    "- #### Our model predicted 4 \"1\" value which are \"0\" in data - false\n",
    "- #### Our model predicted 90 \"1\" value which are \"1\" in data - true\n",
    "\n",
    "- so, total is = 69 + 5 + 4 + 90 = 168\n",
    "- total true predictions = 69 + 90 = 159\n",
    "- our model worked 94.64% true. "
   ]
  },
  {
   "cell_type": "code",
   "execution_count": null,
   "id": "b671e309",
   "metadata": {},
   "outputs": [],
   "source": []
  }
 ],
 "metadata": {
  "kernelspec": {
   "display_name": "Python 3 (ipykernel)",
   "language": "python",
   "name": "python3"
  },
  "language_info": {
   "codemirror_mode": {
    "name": "ipython",
    "version": 3
   },
   "file_extension": ".py",
   "mimetype": "text/x-python",
   "name": "python",
   "nbconvert_exporter": "python",
   "pygments_lexer": "ipython3",
   "version": "3.10.9"
  }
 },
 "nbformat": 4,
 "nbformat_minor": 5
}
