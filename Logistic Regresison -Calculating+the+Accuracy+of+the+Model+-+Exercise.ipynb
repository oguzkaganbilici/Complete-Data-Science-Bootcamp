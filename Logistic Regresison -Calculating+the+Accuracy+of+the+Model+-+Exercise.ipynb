{
  "metadata": {
    "kernelspec": {
      "name": "python",
      "display_name": "Python (Pyodide)",
      "language": "python"
    },
    "language_info": {
      "codemirror_mode": {
        "name": "python",
        "version": 3
      },
      "file_extension": ".py",
      "mimetype": "text/x-python",
      "name": "python",
      "nbconvert_exporter": "python",
      "pygments_lexer": "ipython3",
      "version": "3.8"
    }
  },
  "nbformat_minor": 4,
  "nbformat": 4,
  "cells": [
    {
      "cell_type": "markdown",
      "source": "# Logistic Regression - Calculating the Accuracy of the Model Example",
      "metadata": {}
    },
    {
      "cell_type": "markdown",
      "source": "Using the same dataset, expand the model by including all other features into the regression. \n\nMoreover, calculate the accuracy of the model and create a confusion matrix",
      "metadata": {}
    },
    {
      "cell_type": "markdown",
      "source": "## Import the relevant libraries",
      "metadata": {}
    },
    {
      "cell_type": "code",
      "source": "import numpy as np\nimport pandas as pd\nimport statsmodels.api as sm\nimport matplotlib.pyplot as plt\n",
      "metadata": {
        "trusted": true
      },
      "execution_count": 1,
      "outputs": []
    },
    {
      "cell_type": "markdown",
      "source": "## Load the data",
      "metadata": {}
    },
    {
      "cell_type": "markdown",
      "source": "Load the ‘Bank_data.csv’ dataset.",
      "metadata": {}
    },
    {
      "cell_type": "code",
      "source": "data = pd.read_csv(\"Bank_data.csv\")\ndata.head()",
      "metadata": {
        "trusted": true
      },
      "execution_count": 2,
      "outputs": [
        {
          "execution_count": 2,
          "output_type": "execute_result",
          "data": {
            "text/plain": "   Unnamed: 0  interest_rate  credit  march  may  previous  duration    y\n0           0          1.334     0.0    1.0  0.0       0.0     117.0   no\n1           1          0.767     0.0    0.0  2.0       1.0     274.0  yes\n2           2          4.858     0.0    1.0  0.0       0.0     167.0   no\n3           3          4.120     0.0    0.0  0.0       0.0     686.0  yes\n4           4          4.856     0.0    1.0  0.0       0.0     157.0   no",
            "text/html": "<div>\n<style scoped>\n    .dataframe tbody tr th:only-of-type {\n        vertical-align: middle;\n    }\n\n    .dataframe tbody tr th {\n        vertical-align: top;\n    }\n\n    .dataframe thead th {\n        text-align: right;\n    }\n</style>\n<table border=\"1\" class=\"dataframe\">\n  <thead>\n    <tr style=\"text-align: right;\">\n      <th></th>\n      <th>Unnamed: 0</th>\n      <th>interest_rate</th>\n      <th>credit</th>\n      <th>march</th>\n      <th>may</th>\n      <th>previous</th>\n      <th>duration</th>\n      <th>y</th>\n    </tr>\n  </thead>\n  <tbody>\n    <tr>\n      <th>0</th>\n      <td>0</td>\n      <td>1.334</td>\n      <td>0.0</td>\n      <td>1.0</td>\n      <td>0.0</td>\n      <td>0.0</td>\n      <td>117.0</td>\n      <td>no</td>\n    </tr>\n    <tr>\n      <th>1</th>\n      <td>1</td>\n      <td>0.767</td>\n      <td>0.0</td>\n      <td>0.0</td>\n      <td>2.0</td>\n      <td>1.0</td>\n      <td>274.0</td>\n      <td>yes</td>\n    </tr>\n    <tr>\n      <th>2</th>\n      <td>2</td>\n      <td>4.858</td>\n      <td>0.0</td>\n      <td>1.0</td>\n      <td>0.0</td>\n      <td>0.0</td>\n      <td>167.0</td>\n      <td>no</td>\n    </tr>\n    <tr>\n      <th>3</th>\n      <td>3</td>\n      <td>4.120</td>\n      <td>0.0</td>\n      <td>0.0</td>\n      <td>0.0</td>\n      <td>0.0</td>\n      <td>686.0</td>\n      <td>yes</td>\n    </tr>\n    <tr>\n      <th>4</th>\n      <td>4</td>\n      <td>4.856</td>\n      <td>0.0</td>\n      <td>1.0</td>\n      <td>0.0</td>\n      <td>0.0</td>\n      <td>157.0</td>\n      <td>no</td>\n    </tr>\n  </tbody>\n</table>\n</div>"
          },
          "metadata": {}
        }
      ]
    },
    {
      "cell_type": "code",
      "source": "dt = data.copy()\ndt[\"y\"] = dt[\"y\"].map({\"yes\":1, \"no\":0})\ndt.head()",
      "metadata": {
        "trusted": true
      },
      "execution_count": 3,
      "outputs": [
        {
          "execution_count": 3,
          "output_type": "execute_result",
          "data": {
            "text/plain": "   Unnamed: 0  interest_rate  credit  march  may  previous  duration  y\n0           0          1.334     0.0    1.0  0.0       0.0     117.0  0\n1           1          0.767     0.0    0.0  2.0       1.0     274.0  1\n2           2          4.858     0.0    1.0  0.0       0.0     167.0  0\n3           3          4.120     0.0    0.0  0.0       0.0     686.0  1\n4           4          4.856     0.0    1.0  0.0       0.0     157.0  0",
            "text/html": "<div>\n<style scoped>\n    .dataframe tbody tr th:only-of-type {\n        vertical-align: middle;\n    }\n\n    .dataframe tbody tr th {\n        vertical-align: top;\n    }\n\n    .dataframe thead th {\n        text-align: right;\n    }\n</style>\n<table border=\"1\" class=\"dataframe\">\n  <thead>\n    <tr style=\"text-align: right;\">\n      <th></th>\n      <th>Unnamed: 0</th>\n      <th>interest_rate</th>\n      <th>credit</th>\n      <th>march</th>\n      <th>may</th>\n      <th>previous</th>\n      <th>duration</th>\n      <th>y</th>\n    </tr>\n  </thead>\n  <tbody>\n    <tr>\n      <th>0</th>\n      <td>0</td>\n      <td>1.334</td>\n      <td>0.0</td>\n      <td>1.0</td>\n      <td>0.0</td>\n      <td>0.0</td>\n      <td>117.0</td>\n      <td>0</td>\n    </tr>\n    <tr>\n      <th>1</th>\n      <td>1</td>\n      <td>0.767</td>\n      <td>0.0</td>\n      <td>0.0</td>\n      <td>2.0</td>\n      <td>1.0</td>\n      <td>274.0</td>\n      <td>1</td>\n    </tr>\n    <tr>\n      <th>2</th>\n      <td>2</td>\n      <td>4.858</td>\n      <td>0.0</td>\n      <td>1.0</td>\n      <td>0.0</td>\n      <td>0.0</td>\n      <td>167.0</td>\n      <td>0</td>\n    </tr>\n    <tr>\n      <th>3</th>\n      <td>3</td>\n      <td>4.120</td>\n      <td>0.0</td>\n      <td>0.0</td>\n      <td>0.0</td>\n      <td>0.0</td>\n      <td>686.0</td>\n      <td>1</td>\n    </tr>\n    <tr>\n      <th>4</th>\n      <td>4</td>\n      <td>4.856</td>\n      <td>0.0</td>\n      <td>1.0</td>\n      <td>0.0</td>\n      <td>0.0</td>\n      <td>157.0</td>\n      <td>0</td>\n    </tr>\n  </tbody>\n</table>\n</div>"
          },
          "metadata": {}
        }
      ]
    },
    {
      "cell_type": "code",
      "source": "",
      "metadata": {},
      "execution_count": null,
      "outputs": []
    },
    {
      "cell_type": "markdown",
      "source": "### Declare the dependent and independent variables",
      "metadata": {}
    },
    {
      "cell_type": "markdown",
      "source": "Use 'duration' as the independet variable.",
      "metadata": {}
    },
    {
      "cell_type": "code",
      "source": "x1 = dt[\"duration\"]\ny = dt[\"y\"]",
      "metadata": {
        "trusted": true
      },
      "execution_count": 4,
      "outputs": []
    },
    {
      "cell_type": "markdown",
      "source": "### Simple Logistic Regression",
      "metadata": {}
    },
    {
      "cell_type": "markdown",
      "source": "Run the regression and graph the scatter plot.",
      "metadata": {}
    },
    {
      "cell_type": "code",
      "source": "x = sm.add_constant(x1)\nreg = sm.Logit(y, x)\nresult = reg.fit()",
      "metadata": {
        "trusted": true
      },
      "execution_count": 5,
      "outputs": [
        {
          "name": "stdout",
          "text": "Optimization terminated successfully.\n         Current function value: 0.546118\n         Iterations 7\n",
          "output_type": "stream"
        }
      ]
    },
    {
      "cell_type": "code",
      "source": "result.summary()",
      "metadata": {
        "trusted": true
      },
      "execution_count": 7,
      "outputs": [
        {
          "execution_count": 7,
          "output_type": "execute_result",
          "data": {
            "text/plain": "<class 'statsmodels.iolib.summary.Summary'>\n\"\"\"\n                           Logit Regression Results                           \n==============================================================================\nDep. Variable:                      y   No. Observations:                  518\nModel:                          Logit   Df Residuals:                      516\nMethod:                           MLE   Df Model:                            1\nDate:                Mon, 17 Jul 2023   Pseudo R-squ.:                  0.2121\nTime:                        13:59:47   Log-Likelihood:                -282.89\nconverged:                       True   LL-Null:                       -359.05\nCovariance Type:            nonrobust   LLR p-value:                 5.387e-35\n==============================================================================\n                 coef    std err          z      P>|z|      [0.025      0.975]\n------------------------------------------------------------------------------\nconst         -1.7001      0.192     -8.863      0.000      -2.076      -1.324\nduration       0.0051      0.001      9.159      0.000       0.004       0.006\n==============================================================================\n\"\"\"",
            "text/html": "<table class=\"simpletable\">\n<caption>Logit Regression Results</caption>\n<tr>\n  <th>Dep. Variable:</th>           <td>y</td>        <th>  No. Observations:  </th>  <td>   518</td>  \n</tr>\n<tr>\n  <th>Model:</th>                 <td>Logit</td>      <th>  Df Residuals:      </th>  <td>   516</td>  \n</tr>\n<tr>\n  <th>Method:</th>                 <td>MLE</td>       <th>  Df Model:          </th>  <td>     1</td>  \n</tr>\n<tr>\n  <th>Date:</th>            <td>Mon, 17 Jul 2023</td> <th>  Pseudo R-squ.:     </th>  <td>0.2121</td>  \n</tr>\n<tr>\n  <th>Time:</th>                <td>13:59:47</td>     <th>  Log-Likelihood:    </th> <td> -282.89</td> \n</tr>\n<tr>\n  <th>converged:</th>             <td>True</td>       <th>  LL-Null:           </th> <td> -359.05</td> \n</tr>\n<tr>\n  <th>Covariance Type:</th>     <td>nonrobust</td>    <th>  LLR p-value:       </th> <td>5.387e-35</td>\n</tr>\n</table>\n<table class=\"simpletable\">\n<tr>\n      <td></td>        <th>coef</th>     <th>std err</th>      <th>z</th>      <th>P>|z|</th>  <th>[0.025</th>    <th>0.975]</th>  \n</tr>\n<tr>\n  <th>const</th>    <td>   -1.7001</td> <td>    0.192</td> <td>   -8.863</td> <td> 0.000</td> <td>   -2.076</td> <td>   -1.324</td>\n</tr>\n<tr>\n  <th>duration</th> <td>    0.0051</td> <td>    0.001</td> <td>    9.159</td> <td> 0.000</td> <td>    0.004</td> <td>    0.006</td>\n</tr>\n</table>"
          },
          "metadata": {}
        }
      ]
    },
    {
      "cell_type": "code",
      "source": "plt.scatter(x1,y, c=\"C0\")\nplt.xlabel(\"Duration\", fontsize=28)\nplt.ylabel(\"Subscription\", fontsize=28)\nplt.show()",
      "metadata": {
        "trusted": true
      },
      "execution_count": 10,
      "outputs": [
        {
          "output_type": "display_data",
          "data": {
            "text/plain": "<Figure size 640x480 with 1 Axes>",
            "image/png": "[encoded data removed]"
          },
          "metadata": {}
        }
      ]
    },
    {
      "cell_type": "markdown",
      "source": "## Expand the model",
      "metadata": {}
    },
    {
      "cell_type": "markdown",
      "source": "We can be omitting many causal factors in our simple logistic model, so we instead switch to a multivariate logistic regression model. Add the ‘interest_rate’, ‘march’, ‘credit’ and ‘previous’ estimators to our model and run the regression again. ",
      "metadata": {}
    },
    {
      "cell_type": "markdown",
      "source": "### Declare the independent variable(s)",
      "metadata": {}
    },
    {
      "cell_type": "code",
      "source": "y = dt[\"y\"]\nx1 = dt[[\"duration\", \"interest_rate\", \"march\", \"credit\", \"previous\"]]\n",
      "metadata": {
        "trusted": true
      },
      "execution_count": 11,
      "outputs": []
    },
    {
      "cell_type": "code",
      "source": "x = sm.add_constant(x1)\nreg = sm.Logit(y, x)\nresult = reg.fit()\nresult.summary()",
      "metadata": {
        "trusted": true
      },
      "execution_count": 13,
      "outputs": [
        {
          "name": "stdout",
          "text": "Optimization terminated successfully.\n         Current function value: 0.336664\n         Iterations 7\n",
          "output_type": "stream"
        },
        {
          "execution_count": 13,
          "output_type": "execute_result",
          "data": {
            "text/plain": "<class 'statsmodels.iolib.summary.Summary'>\n\"\"\"\n                           Logit Regression Results                           \n==============================================================================\nDep. Variable:                      y   No. Observations:                  518\nModel:                          Logit   Df Residuals:                      512\nMethod:                           MLE   Df Model:                            5\nDate:                Mon, 17 Jul 2023   Pseudo R-squ.:                  0.5143\nTime:                        14:02:48   Log-Likelihood:                -174.39\nconverged:                       True   LL-Null:                       -359.05\nCovariance Type:            nonrobust   LLR p-value:                 1.211e-77\n=================================================================================\n                    coef    std err          z      P>|z|      [0.025      0.975]\n---------------------------------------------------------------------------------\nconst            -0.0211      0.311     -0.068      0.946      -0.631       0.589\nduration          0.0070      0.001      9.381      0.000       0.006       0.008\ninterest_rate    -0.8001      0.089     -8.943      0.000      -0.975      -0.625\nmarch            -1.8322      0.330     -5.556      0.000      -2.478      -1.186\ncredit            2.3585      1.088      2.169      0.030       0.227       4.490\nprevious          1.5363      0.501      3.067      0.002       0.554       2.518\n=================================================================================\n\"\"\"",
            "text/html": "<table class=\"simpletable\">\n<caption>Logit Regression Results</caption>\n<tr>\n  <th>Dep. Variable:</th>           <td>y</td>        <th>  No. Observations:  </th>  <td>   518</td>  \n</tr>\n<tr>\n  <th>Model:</th>                 <td>Logit</td>      <th>  Df Residuals:      </th>  <td>   512</td>  \n</tr>\n<tr>\n  <th>Method:</th>                 <td>MLE</td>       <th>  Df Model:          </th>  <td>     5</td>  \n</tr>\n<tr>\n  <th>Date:</th>            <td>Mon, 17 Jul 2023</td> <th>  Pseudo R-squ.:     </th>  <td>0.5143</td>  \n</tr>\n<tr>\n  <th>Time:</th>                <td>14:02:48</td>     <th>  Log-Likelihood:    </th> <td> -174.39</td> \n</tr>\n<tr>\n  <th>converged:</th>             <td>True</td>       <th>  LL-Null:           </th> <td> -359.05</td> \n</tr>\n<tr>\n  <th>Covariance Type:</th>     <td>nonrobust</td>    <th>  LLR p-value:       </th> <td>1.211e-77</td>\n</tr>\n</table>\n<table class=\"simpletable\">\n<tr>\n        <td></td>           <th>coef</th>     <th>std err</th>      <th>z</th>      <th>P>|z|</th>  <th>[0.025</th>    <th>0.975]</th>  \n</tr>\n<tr>\n  <th>const</th>         <td>   -0.0211</td> <td>    0.311</td> <td>   -0.068</td> <td> 0.946</td> <td>   -0.631</td> <td>    0.589</td>\n</tr>\n<tr>\n  <th>duration</th>      <td>    0.0070</td> <td>    0.001</td> <td>    9.381</td> <td> 0.000</td> <td>    0.006</td> <td>    0.008</td>\n</tr>\n<tr>\n  <th>interest_rate</th> <td>   -0.8001</td> <td>    0.089</td> <td>   -8.943</td> <td> 0.000</td> <td>   -0.975</td> <td>   -0.625</td>\n</tr>\n<tr>\n  <th>march</th>         <td>   -1.8322</td> <td>    0.330</td> <td>   -5.556</td> <td> 0.000</td> <td>   -2.478</td> <td>   -1.186</td>\n</tr>\n<tr>\n  <th>credit</th>        <td>    2.3585</td> <td>    1.088</td> <td>    2.169</td> <td> 0.030</td> <td>    0.227</td> <td>    4.490</td>\n</tr>\n<tr>\n  <th>previous</th>      <td>    1.5363</td> <td>    0.501</td> <td>    3.067</td> <td> 0.002</td> <td>    0.554</td> <td>    2.518</td>\n</tr>\n</table>"
          },
          "metadata": {}
        }
      ]
    },
    {
      "cell_type": "markdown",
      "source": "### Confusion Matrix",
      "metadata": {}
    },
    {
      "cell_type": "markdown",
      "source": "Create the confusion matrix of the model and estimate its accuracy. ",
      "metadata": {}
    },
    {
      "cell_type": "markdown",
      "source": "<i> For convenience we have already provided you with a function that finds the confusion matrix and the model accuracy.</i>",
      "metadata": {}
    },
    {
      "cell_type": "code",
      "source": "def confusion_matrix(data,actual_values,model):\n        \n        # Confusion matrix \n        \n        # Parameters\n        # ----------\n        # data: data frame or array\n            # data is a data frame formatted in the same way as your input data (without the actual values)\n            # e.g. const, var1, var2, etc. Order is very important!\n        # actual_values: data frame or array\n            # These are the actual values from the test_data\n            # In the case of a logistic regression, it should be a single column with 0s and 1s\n            \n        # model: a LogitResults object\n            # this is the variable where you have the fitted model \n            # e.g. results_log in this course\n        # ----------\n        \n        #Predict the values using the Logit model\n        pred_values = model.predict(data)\n        # Specify the bins \n        bins=np.array([0,0.5,1])\n        # Create a histogram, where if values are between 0 and 0.5 tell will be considered 0\n        # if they are between 0.5 and 1, they will be considered 1\n        cm = np.histogram2d(actual_values, pred_values, bins=bins)[0]\n        # Calculate the accuracy\n        accuracy = (cm[0,0]+cm[1,1])/cm.sum()\n        # Return the confusion matrix and \n        return cm, accuracy",
      "metadata": {
        "trusted": true
      },
      "execution_count": 15,
      "outputs": []
    },
    {
      "cell_type": "code",
      "source": "result.pred_table()",
      "metadata": {
        "trusted": true
      },
      "execution_count": 16,
      "outputs": [
        {
          "execution_count": 16,
          "output_type": "execute_result",
          "data": {
            "text/plain": "array([[218.,  41.],\n       [ 30., 229.]])"
          },
          "metadata": {}
        }
      ]
    },
    {
      "cell_type": "code",
      "source": "confusion_matrix(x, y, result)",
      "metadata": {
        "trusted": true
      },
      "execution_count": 21,
      "outputs": [
        {
          "execution_count": 21,
          "output_type": "execute_result",
          "data": {
            "text/plain": "(array([[218.,  41.],\n        [ 30., 229.]]),\n 0.862934362934363)"
          },
          "metadata": {}
        }
      ]
    },
    {
      "cell_type": "code",
      "source": "",
      "metadata": {},
      "execution_count": null,
      "outputs": []
    }
  ]
}