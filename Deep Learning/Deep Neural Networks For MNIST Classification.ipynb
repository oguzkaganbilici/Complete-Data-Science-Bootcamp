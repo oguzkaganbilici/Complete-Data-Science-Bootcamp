{
 "cells": [
  {
   "cell_type": "markdown",
   "id": "b682cf74",
   "metadata": {},
   "source": [
    "# Deep Neural Networks For MNIST Classification\n",
    "\n",
    "We'll apply all knowledge from the lectures in this section to write a deep neural networks. The problem we've chosen is refered to as the \"Hello World\" of deep learning because for most students it is the first deep learning algorithm they see.\n",
    "\n",
    "The dataset called MNIST and refers to handwritting digit recognotion. You can find more about it on Yann LeCun's website. He is one of the pioneers of what we've been talking about and of more complex approaches that are widely used today, such as convolutional neural networks. (CNNs)\n",
    "\n",
    "The dataset provides 70.000 images  (28x28 pixels) of handwriting digits.\n",
    "\n",
    "The goal is to write an algorithm that detects which digit is written. Since there are only 10 digits (0,1,2,3,4,5,6,7,8,9). This is classification problem with 10 classes.\n",
    "\n",
    "Our goal would be to build a neural network with 2 hidden layer.\n"
   ]
  },
  {
   "cell_type": "markdown",
   "id": "09603584",
   "metadata": {},
   "source": [
    "## Import the relevant packages"
   ]
  },
  {
   "cell_type": "code",
   "execution_count": 1,
   "id": "67f2d04c",
   "metadata": {},
   "outputs": [
    {
     "name": "stderr",
     "output_type": "stream",
     "text": [
      "C:\\Users\\oguzk\\anaconda3\\envs\\py3-TF2.0\\lib\\site-packages\\tqdm\\auto.py:21: TqdmWarning: IProgress not found. Please update jupyter and ipywidgets. See https://ipywidgets.readthedocs.io/en/stable/user_install.html\n",
      "  from .autonotebook import tqdm as notebook_tqdm\n"
     ]
    }
   ],
   "source": [
    "import numpy as np\n",
    "import tensorflow as tf\n",
    "\n",
    "import tensorflow_datasets as tfds\n"
   ]
  },
  {
   "cell_type": "markdown",
   "id": "abaad2b7",
   "metadata": {},
   "source": [
    "## Data"
   ]
  },
  {
   "cell_type": "code",
   "execution_count": 2,
   "id": "c448c3be",
   "metadata": {},
   "outputs": [],
   "source": [
    "mind_dataset,mnist_info = tfds.load(name=\"mnist\",with_info = True, as_supervised = True)"
   ]
  },
  {
   "cell_type": "code",
   "execution_count": 3,
   "id": "a9997698",
   "metadata": {},
   "outputs": [],
   "source": [
    "mnist_train, mnist_test = mind_dataset[\"train\"], mind_dataset[\"test\"]\n",
    "num_validation_samples = 0.1 * mnist_info.splits[\"train\"].num_examples\n",
    "\n",
    "num_validation_samples = tf.cast(num_validation_samples, tf.int64) #converts a variable into a given data type\n",
    "\n",
    "num_test_samples = mnist_info.splits[\"test\"].num_examples\n",
    "num_test_samples = tf.cast(num_test_samples, tf.int64)\n",
    "\n",
    "def scale(img, label):\n",
    "    img = tf.cast(img, tf.float32)\n",
    "    img = img / 255.\n",
    "    return img, label\n",
    "\n",
    "scaled_train_and_validation_data = mnist_train.map(scale)\n",
    "\n",
    "test_data = mnist_test.map(scale)\n",
    "\n",
    "BUFFER_SIZE = 10000 # we create this cuz dataset is very large and our memory is not enough for that. \n",
    "#in each shuffle 10.000 elements will be shuffled\n",
    "\n",
    "shuffled_train_and_validation_data = scaled_train_and_validation_data.shuffle(BUFFER_SIZE) \n",
    "\n",
    "validation_data = shuffled_train_and_validation_data.take(num_validation_samples)\n",
    "train_data = shuffled_train_and_validation_data.skip(num_validation_samples)\n",
    "\n",
    "BATCH_SIZE = 1000\n",
    "train_data = train_data.batch(BATCH_SIZE)\n",
    "validation_data = validation_data.batch(num_validation_samples)\n",
    "test_data = test_data.batch(num_test_samples)\n",
    "\n",
    "validation_inputs, validation_targets = next(iter(validation_data)) \n",
    "# iter: creates an object which can be itareted one element at a time\n",
    "# next: loads the next element of an iterable object\n",
    "\n"
   ]
  },
  {
   "cell_type": "markdown",
   "id": "b035f564",
   "metadata": {},
   "source": [
    "## Model \n",
    "\n",
    "### Outline the model"
   ]
  },
  {
   "cell_type": "code",
   "execution_count": 4,
   "id": "c02626fb",
   "metadata": {},
   "outputs": [],
   "source": [
    "input_size = 784\n",
    "output_size = 10\n",
    "hidden_layer_size = 1000\n",
    "\n",
    "model = tf.keras.Sequential([\n",
    "    tf.keras.layers.Flatten(input_shape = (28,28,1)),\n",
    "    tf.keras.layers.Dense(hidden_layer_size, activation=\"relu\"), #hidden layer\n",
    "    tf.keras.layers.Dense(hidden_layer_size, activation=\"tanh\"), #hidden layer\n",
    "    \n",
    "    tf.keras.layers.Dense(output_size, activation=\"softmax\")\n",
    "])\n",
    "#function that is laying down the model"
   ]
  },
  {
   "cell_type": "markdown",
   "id": "178fe485",
   "metadata": {},
   "source": [
    "## Choose an optimizer and the loss function"
   ]
  },
  {
   "cell_type": "code",
   "execution_count": 5,
   "id": "10cad500",
   "metadata": {},
   "outputs": [],
   "source": [
    "custom_optimizer = tf.keras.optimizers.Adam(learning_rate=0.0001)\n",
    "#model.compile(optimizer=\"adam\", loss=\"sparse_categorical_crossentropy\", metrics = [\"accuracy\"])\n",
    "model.compile(optimizer=custom_optimizer, loss=\"sparse_categorical_crossentropy\", metrics = [\"accuracy\"])"
   ]
  },
  {
   "cell_type": "markdown",
   "id": "0973d21b",
   "metadata": {},
   "source": [
    "## Traning"
   ]
  },
  {
   "cell_type": "code",
   "execution_count": 6,
   "id": "ace1dc32",
   "metadata": {},
   "outputs": [
    {
     "name": "stdout",
     "output_type": "stream",
     "text": [
      "Epoch 1/50\n",
      "54/54 - 6s - loss: 0.9916 - accuracy: 0.7738 - val_loss: 0.4279 - val_accuracy: 0.8890 - 6s/epoch - 112ms/step\n",
      "Epoch 2/50\n",
      "54/54 - 4s - loss: 0.3450 - accuracy: 0.9073 - val_loss: 0.2835 - val_accuracy: 0.9212 - 4s/epoch - 79ms/step\n",
      "Epoch 3/50\n",
      "54/54 - 4s - loss: 0.2579 - accuracy: 0.9287 - val_loss: 0.2300 - val_accuracy: 0.9373 - 4s/epoch - 80ms/step\n",
      "Epoch 4/50\n",
      "54/54 - 4s - loss: 0.2138 - accuracy: 0.9411 - val_loss: 0.1959 - val_accuracy: 0.9470 - 4s/epoch - 76ms/step\n",
      "Epoch 5/50\n",
      "54/54 - 4s - loss: 0.1819 - accuracy: 0.9499 - val_loss: 0.1732 - val_accuracy: 0.9532 - 4s/epoch - 78ms/step\n",
      "Epoch 6/50\n",
      "54/54 - 4s - loss: 0.1596 - accuracy: 0.9559 - val_loss: 0.1520 - val_accuracy: 0.9578 - 4s/epoch - 77ms/step\n",
      "Epoch 7/50\n",
      "54/54 - 4s - loss: 0.1403 - accuracy: 0.9607 - val_loss: 0.1397 - val_accuracy: 0.9605 - 4s/epoch - 76ms/step\n",
      "Epoch 8/50\n",
      "54/54 - 4s - loss: 0.1261 - accuracy: 0.9655 - val_loss: 0.1281 - val_accuracy: 0.9633 - 4s/epoch - 76ms/step\n",
      "Epoch 9/50\n",
      "54/54 - 4s - loss: 0.1123 - accuracy: 0.9692 - val_loss: 0.1161 - val_accuracy: 0.9677 - 4s/epoch - 82ms/step\n",
      "Epoch 10/50\n",
      "54/54 - 4s - loss: 0.1020 - accuracy: 0.9725 - val_loss: 0.1056 - val_accuracy: 0.9720 - 4s/epoch - 81ms/step\n",
      "Epoch 11/50\n",
      "54/54 - 5s - loss: 0.0929 - accuracy: 0.9741 - val_loss: 0.0978 - val_accuracy: 0.9723 - 5s/epoch - 84ms/step\n",
      "Epoch 12/50\n",
      "54/54 - 5s - loss: 0.0838 - accuracy: 0.9772 - val_loss: 0.0903 - val_accuracy: 0.9750 - 5s/epoch - 84ms/step\n",
      "Epoch 13/50\n",
      "54/54 - 4s - loss: 0.0762 - accuracy: 0.9796 - val_loss: 0.0853 - val_accuracy: 0.9755 - 4s/epoch - 83ms/step\n",
      "Epoch 14/50\n",
      "54/54 - 5s - loss: 0.0707 - accuracy: 0.9811 - val_loss: 0.0789 - val_accuracy: 0.9788 - 5s/epoch - 84ms/step\n",
      "Epoch 15/50\n",
      "54/54 - 4s - loss: 0.0656 - accuracy: 0.9824 - val_loss: 0.0733 - val_accuracy: 0.9800 - 4s/epoch - 83ms/step\n",
      "Epoch 16/50\n",
      "54/54 - 4s - loss: 0.0592 - accuracy: 0.9844 - val_loss: 0.0688 - val_accuracy: 0.9800 - 4s/epoch - 80ms/step\n",
      "Epoch 17/50\n",
      "54/54 - 4s - loss: 0.0535 - accuracy: 0.9862 - val_loss: 0.0638 - val_accuracy: 0.9833 - 4s/epoch - 78ms/step\n",
      "Epoch 18/50\n",
      "54/54 - 4s - loss: 0.0499 - accuracy: 0.9873 - val_loss: 0.0606 - val_accuracy: 0.9843 - 4s/epoch - 80ms/step\n",
      "Epoch 19/50\n",
      "54/54 - 4s - loss: 0.0462 - accuracy: 0.9882 - val_loss: 0.0567 - val_accuracy: 0.9855 - 4s/epoch - 77ms/step\n",
      "Epoch 20/50\n",
      "54/54 - 4s - loss: 0.0425 - accuracy: 0.9894 - val_loss: 0.0528 - val_accuracy: 0.9865 - 4s/epoch - 77ms/step\n",
      "Epoch 21/50\n",
      "54/54 - 4s - loss: 0.0394 - accuracy: 0.9905 - val_loss: 0.0511 - val_accuracy: 0.9865 - 4s/epoch - 77ms/step\n",
      "Epoch 22/50\n",
      "54/54 - 4s - loss: 0.0366 - accuracy: 0.9909 - val_loss: 0.0470 - val_accuracy: 0.9872 - 4s/epoch - 77ms/step\n",
      "Epoch 23/50\n",
      "54/54 - 4s - loss: 0.0336 - accuracy: 0.9924 - val_loss: 0.0436 - val_accuracy: 0.9887 - 4s/epoch - 77ms/step\n",
      "Epoch 24/50\n",
      "54/54 - 4s - loss: 0.0315 - accuracy: 0.9926 - val_loss: 0.0415 - val_accuracy: 0.9890 - 4s/epoch - 77ms/step\n",
      "Epoch 25/50\n",
      "54/54 - 4s - loss: 0.0289 - accuracy: 0.9931 - val_loss: 0.0393 - val_accuracy: 0.9888 - 4s/epoch - 78ms/step\n",
      "Epoch 26/50\n",
      "54/54 - 4s - loss: 0.0273 - accuracy: 0.9941 - val_loss: 0.0368 - val_accuracy: 0.9903 - 4s/epoch - 77ms/step\n",
      "Epoch 27/50\n",
      "54/54 - 4s - loss: 0.0246 - accuracy: 0.9951 - val_loss: 0.0349 - val_accuracy: 0.9907 - 4s/epoch - 78ms/step\n",
      "Epoch 28/50\n",
      "54/54 - 4s - loss: 0.0234 - accuracy: 0.9951 - val_loss: 0.0327 - val_accuracy: 0.9913 - 4s/epoch - 78ms/step\n",
      "Epoch 29/50\n",
      "54/54 - 4s - loss: 0.0215 - accuracy: 0.9958 - val_loss: 0.0308 - val_accuracy: 0.9923 - 4s/epoch - 78ms/step\n",
      "Epoch 30/50\n",
      "54/54 - 4s - loss: 0.0198 - accuracy: 0.9961 - val_loss: 0.0281 - val_accuracy: 0.9925 - 4s/epoch - 77ms/step\n",
      "Epoch 31/50\n",
      "54/54 - 4s - loss: 0.0182 - accuracy: 0.9970 - val_loss: 0.0269 - val_accuracy: 0.9927 - 4s/epoch - 77ms/step\n",
      "Epoch 32/50\n",
      "54/54 - 4s - loss: 0.0169 - accuracy: 0.9972 - val_loss: 0.0252 - val_accuracy: 0.9938 - 4s/epoch - 78ms/step\n",
      "Epoch 33/50\n",
      "54/54 - 4s - loss: 0.0157 - accuracy: 0.9975 - val_loss: 0.0244 - val_accuracy: 0.9940 - 4s/epoch - 78ms/step\n",
      "Epoch 34/50\n",
      "54/54 - 4s - loss: 0.0145 - accuracy: 0.9979 - val_loss: 0.0220 - val_accuracy: 0.9947 - 4s/epoch - 79ms/step\n",
      "Epoch 35/50\n",
      "54/54 - 4s - loss: 0.0138 - accuracy: 0.9979 - val_loss: 0.0202 - val_accuracy: 0.9953 - 4s/epoch - 78ms/step\n",
      "Epoch 36/50\n",
      "54/54 - 4s - loss: 0.0126 - accuracy: 0.9983 - val_loss: 0.0191 - val_accuracy: 0.9957 - 4s/epoch - 79ms/step\n",
      "Epoch 37/50\n",
      "54/54 - 4s - loss: 0.0119 - accuracy: 0.9985 - val_loss: 0.0177 - val_accuracy: 0.9957 - 4s/epoch - 80ms/step\n",
      "Epoch 38/50\n",
      "54/54 - 5s - loss: 0.0110 - accuracy: 0.9986 - val_loss: 0.0166 - val_accuracy: 0.9957 - 5s/epoch - 86ms/step\n",
      "Epoch 39/50\n",
      "54/54 - 4s - loss: 0.0099 - accuracy: 0.9989 - val_loss: 0.0149 - val_accuracy: 0.9973 - 4s/epoch - 82ms/step\n",
      "Epoch 40/50\n",
      "54/54 - 4s - loss: 0.0094 - accuracy: 0.9991 - val_loss: 0.0143 - val_accuracy: 0.9973 - 4s/epoch - 81ms/step\n",
      "Epoch 41/50\n",
      "54/54 - 4s - loss: 0.0087 - accuracy: 0.9992 - val_loss: 0.0130 - val_accuracy: 0.9977 - 4s/epoch - 79ms/step\n",
      "Epoch 42/50\n",
      "54/54 - 4s - loss: 0.0080 - accuracy: 0.9993 - val_loss: 0.0119 - val_accuracy: 0.9980 - 4s/epoch - 80ms/step\n",
      "Epoch 43/50\n",
      "54/54 - 4s - loss: 0.0076 - accuracy: 0.9994 - val_loss: 0.0112 - val_accuracy: 0.9980 - 4s/epoch - 81ms/step\n",
      "Epoch 44/50\n",
      "54/54 - 4s - loss: 0.0073 - accuracy: 0.9994 - val_loss: 0.0099 - val_accuracy: 0.9983 - 4s/epoch - 82ms/step\n",
      "Epoch 45/50\n",
      "54/54 - 4s - loss: 0.0064 - accuracy: 0.9995 - val_loss: 0.0091 - val_accuracy: 0.9987 - 4s/epoch - 80ms/step\n",
      "Epoch 46/50\n",
      "54/54 - 4s - loss: 0.0060 - accuracy: 0.9995 - val_loss: 0.0082 - val_accuracy: 0.9990 - 4s/epoch - 78ms/step\n",
      "Epoch 47/50\n",
      "54/54 - 4s - loss: 0.0055 - accuracy: 0.9996 - val_loss: 0.0081 - val_accuracy: 0.9988 - 4s/epoch - 82ms/step\n",
      "Epoch 48/50\n",
      "54/54 - 4s - loss: 0.0051 - accuracy: 0.9998 - val_loss: 0.0075 - val_accuracy: 0.9995 - 4s/epoch - 81ms/step\n",
      "Epoch 49/50\n",
      "54/54 - 4s - loss: 0.0048 - accuracy: 0.9998 - val_loss: 0.0068 - val_accuracy: 0.9995 - 4s/epoch - 82ms/step\n",
      "Epoch 50/50\n",
      "54/54 - 4s - loss: 0.0044 - accuracy: 0.9998 - val_loss: 0.0063 - val_accuracy: 0.9995 - 4s/epoch - 83ms/step\n"
     ]
    },
    {
     "data": {
      "text/plain": [
       "<keras.src.callbacks.History at 0x20702703df0>"
      ]
     },
     "execution_count": 6,
     "metadata": {},
     "output_type": "execute_result"
    }
   ],
   "source": [
    "NUM_EPOCHS = 50\n",
    "\n",
    "model.fit(train_data, epochs=NUM_EPOCHS, validation_data=(validation_inputs, validation_targets), verbose=2)"
   ]
  },
  {
   "cell_type": "markdown",
   "id": "9dca1cce",
   "metadata": {},
   "source": [
    "## Test the model"
   ]
  },
  {
   "cell_type": "code",
   "execution_count": 7,
   "id": "c93dda85",
   "metadata": {},
   "outputs": [
    {
     "name": "stdout",
     "output_type": "stream",
     "text": [
      "1/1 [==============================] - 0s 443ms/step - loss: 0.0624 - accuracy: 0.9812\n",
      "Test loss: 0.06, Test accuracy: 98.12%\n"
     ]
    }
   ],
   "source": [
    "test_loss, test_accuracy = model.evaluate(test_data)\n",
    "\n",
    "print(\"Test loss: {0:.2f}, Test accuracy: {1:.2f}%\".format(test_loss, test_accuracy * 100))"
   ]
  },
  {
   "cell_type": "code",
   "execution_count": null,
   "id": "8049ee87",
   "metadata": {},
   "outputs": [],
   "source": []
  }
 ],
 "metadata": {
  "kernelspec": {
   "display_name": "py3-TF2.0",
   "language": "python",
   "name": "py3-tf2.0"
  },
  "language_info": {
   "codemirror_mode": {
    "name": "ipython",
    "version": 3
   },
   "file_extension": ".py",
   "mimetype": "text/x-python",
   "name": "python",
   "nbconvert_exporter": "python",
   "pygments_lexer": "ipython3",
   "version": "3.8.17"
  }
 },
 "nbformat": 4,
 "nbformat_minor": 5
}
