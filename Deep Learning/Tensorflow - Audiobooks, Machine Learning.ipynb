{
 "cells": [
  {
   "cell_type": "markdown",
   "id": "02a62b32",
   "metadata": {},
   "source": [
    "# Practical Example\n",
    "\n",
    "You are given data from an Audiobook app. Logically, it relates only to the audio versions of books. Each customer in the database has made a purchase at least once, that's why he/she is in the database. We want to create a machine learning algorithm based on our available data that can predict if a customer will buy again from the Audiobook company.\n",
    "\n",
    "The main idea is that if a customer has a low probability of coming back, there is no reason to spend any money on advertizing to him/her. If we can focus our efforts ONLY on customers that are likely to convert again, we can make great savings. Moreover, this model can identify the most important metrics for a customer to come back again. Identifying new customers creates value and growth opportunities.\n",
    "\n",
    "You have a .csv summarizing the data. There are several variables: Customer ID, Book length in mins_avg (average of all purchases), Book length in minutes_sum (sum of all purchases), Price Paid_avg (average of all purchases), Price paid_sum (sum of all purchases), Review (a Boolean variable), Review (out of 10), Total minutes listened, Completion (from 0 to 1), Support requests (number), and Last visited minus purchase date (in days).\n",
    "\n",
    "So these are the inputs (excluding customer ID, as it is completely arbitrary. It's more like a name, than a number).\n",
    "\n",
    "The targets are a Boolean variable (so 0, or 1). We are taking a period of 2 years in our inputs, and the next 6 months as targets. So, in fact, we are predicting if: based on the last 2 years of activity and engagement, a customer will convert in the next 6 months. 6 months sounds like a reasonable time. If they don't convert after 6 months, chances are they've gone to a competitor or didn't like the Audiobook way of digesting information. \n",
    "\n",
    "The task is simple: create a machine learning algorithm, which is able to predict if a customer will buy again. \n",
    "\n",
    "This is a classification problem with two classes: won't buy and will buy, represented by 0s and 1s. \n",
    "\n",
    "Good luck!"
   ]
  },
  {
   "cell_type": "markdown",
   "id": "fd9cd400",
   "metadata": {},
   "source": [
    "## Import libraries"
   ]
  },
  {
   "cell_type": "code",
   "execution_count": 5,
   "id": "ed4308f1",
   "metadata": {},
   "outputs": [],
   "source": [
    "import numpy as np\n",
    "import tensorflow as tf"
   ]
  },
  {
   "cell_type": "markdown",
   "id": "c13af9df",
   "metadata": {},
   "source": [
    "## Data"
   ]
  },
  {
   "cell_type": "code",
   "execution_count": 21,
   "id": "cc6f6643",
   "metadata": {},
   "outputs": [],
   "source": [
    "# let's create a temporary variable npz, where we will store each of the three Audiobooks datasets\n",
    "npz = np.load(\"Audiobooks_data_train.npz\")\n",
    "# we extract the inputs using the keyword under which we saved them\n",
    "# to ensure that they are all floats, let's also take care of that\n",
    "train_inputs = npz[\"inputs\"].astype(np.float64)\n",
    "# targets must be int because of sparse_categorical_crossentropy (we want to be able to smoothly one-hot encode them)\n",
    "train_targets = npz[\"targets\"].astype(np.int64)\n",
    "\n",
    "# we load the validation data in the temporary variable\n",
    "npz = np.load(\"Audiobooks_data_validation.npz\")\n",
    "validation_inputs = npz[\"inputs\"].astype(np.float64)\n",
    "validation_targets = npz[\"targets\"].astype(np.int64)\n",
    "\n",
    "npz = np.load(\"Audiobooks_data_test.npz\")\n",
    "test_inputs = npz[\"inputs\"].astype(np.float64)\n",
    "test_targets = npz[\"targets\"].astype(np.int64)\n",
    "\n"
   ]
  },
  {
   "cell_type": "markdown",
   "id": "f36df53f",
   "metadata": {},
   "source": [
    "## Model\n",
    "Outline, optimizers, loss, early stopping and training"
   ]
  },
  {
   "cell_type": "code",
   "execution_count": 23,
   "id": "966d5750",
   "metadata": {},
   "outputs": [
    {
     "name": "stdout",
     "output_type": "stream",
     "text": [
      "Epoch 1/100\n",
      "36/36 - 1s - loss: 0.6277 - accuracy: 0.6633 - val_loss: 0.5267 - val_accuracy: 0.7629 - 808ms/epoch - 22ms/step\n",
      "Epoch 2/100\n",
      "36/36 - 0s - loss: 0.4914 - accuracy: 0.7631 - val_loss: 0.4325 - val_accuracy: 0.7852 - 50ms/epoch - 1ms/step\n",
      "Epoch 3/100\n",
      "36/36 - 0s - loss: 0.4272 - accuracy: 0.7812 - val_loss: 0.3799 - val_accuracy: 0.8188 - 50ms/epoch - 1ms/step\n",
      "Epoch 4/100\n",
      "36/36 - 0s - loss: 0.3936 - accuracy: 0.7960 - val_loss: 0.3576 - val_accuracy: 0.8188 - 51ms/epoch - 1ms/step\n",
      "Epoch 5/100\n",
      "36/36 - 0s - loss: 0.3771 - accuracy: 0.8008 - val_loss: 0.3421 - val_accuracy: 0.8210 - 53ms/epoch - 1ms/step\n",
      "Epoch 6/100\n",
      "36/36 - 0s - loss: 0.3678 - accuracy: 0.8058 - val_loss: 0.3406 - val_accuracy: 0.8255 - 48ms/epoch - 1ms/step\n",
      "Epoch 7/100\n",
      "36/36 - 0s - loss: 0.3609 - accuracy: 0.8053 - val_loss: 0.3273 - val_accuracy: 0.8658 - 52ms/epoch - 1ms/step\n",
      "Epoch 8/100\n",
      "36/36 - 0s - loss: 0.3582 - accuracy: 0.8092 - val_loss: 0.3297 - val_accuracy: 0.8479 - 50ms/epoch - 1ms/step\n",
      "Epoch 9/100\n",
      "36/36 - 0s - loss: 0.3528 - accuracy: 0.8100 - val_loss: 0.3206 - val_accuracy: 0.8300 - 50ms/epoch - 1ms/step\n",
      "Epoch 10/100\n",
      "36/36 - 0s - loss: 0.3471 - accuracy: 0.8212 - val_loss: 0.3245 - val_accuracy: 0.8255 - 49ms/epoch - 1ms/step\n",
      "Epoch 11/100\n",
      "36/36 - 0s - loss: 0.3456 - accuracy: 0.8097 - val_loss: 0.3234 - val_accuracy: 0.8367 - 49ms/epoch - 1ms/step\n"
     ]
    },
    {
     "data": {
      "text/plain": [
       "<keras.src.callbacks.History at 0x1c5dbc06df0>"
      ]
     },
     "execution_count": 23,
     "metadata": {},
     "output_type": "execute_result"
    }
   ],
   "source": [
    "# Set the input and output sizes\n",
    "input_size = 10\n",
    "output_size = 2\n",
    "# Use same hidden layer size for both hidden layers. Not a necessity.\n",
    "hidden_layer_size = 50\n",
    "\n",
    "# define how the model will look like\n",
    "model = tf.keras.Sequential([\n",
    "    # tf.keras.layers.Dense is basically implementing: output = activation(dot(input, weight) + bias)\n",
    "    # it takes several arguments, but the most important ones for us are the hidden_layer_size and the activation funct\n",
    "    tf.keras.layers.Dense(hidden_layer_size, activation=\"relu\"),\n",
    "    tf.keras.layers.Dense(hidden_layer_size, activation=\"relu\"),\n",
    "    # the final layer is no different, we just make sure to activate it with softmax\n",
    "    tf.keras.layers.Dense(output_size, activation=\"softmax\")\n",
    "])\n",
    "\n",
    "### Choose the optimizer and the loss function\n",
    "\n",
    "# we define the optimizer we'd like to use, \n",
    "# the loss function, \n",
    "# and the metrics we are interested in obtaining at each iteration\n",
    "\n",
    "model.compile(optimizer = \"adam\", loss=\"sparse_categorical_crossentropy\", metrics=[\"accuracy\"])\n",
    "\n",
    "### Training\n",
    "# That's where we train the model we have built.\n",
    "\n",
    "# set the batch size\n",
    "batch_size = 100\n",
    "\n",
    "# set a maximum number of training epochs\n",
    "max_epoch = 100\n",
    "\n",
    "# set an early stopping mechanism\n",
    "# let's set patience=2, to be a bit tolerant against random validation loss increases\n",
    "early_stopping = tf.keras.callbacks.EarlyStopping(patience=2)\n",
    "\n",
    "\n",
    "# fit the model\n",
    "# note that this time the train, validation and test data are not iterable\n",
    "model.fit(\n",
    "    train_inputs, \n",
    "    train_targets, \n",
    "    batch_size = batch_size, \n",
    "    epochs = max_epoch,\n",
    "    callbacks=[early_stopping],\n",
    "    validation_data = (validation_inputs, validation_targets),\n",
    "    verbose = 2)"
   ]
  },
  {
   "cell_type": "markdown",
   "id": "04ae7a9a",
   "metadata": {},
   "source": [
    "## Test\n",
    "\n",
    "As we discussed in the lectures, after training on the training data and validating on the validation data, we test the final prediction power of our model by running it on the test dataset that the algorithm has NEVER seen before.\n",
    "\n",
    "It is very important to realize that fiddling with the hyperparameters overfits the validation dataset.\n",
    "\n",
    "The test is the absolute final instance. You should not test before you are completely done with adjusting your model.\n",
    "\n",
    "If you adjust your model after testing, you will start overfitting the test dataset, which will defeat its purpose."
   ]
  },
  {
   "cell_type": "code",
   "execution_count": 24,
   "id": "edaddaa2",
   "metadata": {},
   "outputs": [
    {
     "name": "stdout",
     "output_type": "stream",
     "text": [
      "14/14 [==============================] - 0s 949us/step - loss: 0.3535 - accuracy: 0.8125\n",
      "Test loss: 0.35, Test accuracy: 81.25%\n"
     ]
    }
   ],
   "source": [
    "test_loss, test_accuracy = model.evaluate(test_inputs, test_targets)\n",
    "\n",
    "print(\"Test loss: {0:.2f}, Test accuracy: {1:.2f}%\".format(test_loss, test_accuracy * 100))"
   ]
  },
  {
   "cell_type": "markdown",
   "id": "ea0a62f4",
   "metadata": {},
   "source": [
    "Using the initial model and hyperparameters given in this notebook, the final test accuracy should be roughly around 81%.\n",
    "\n",
    "Note that each time the code is rerun, we get a different accuracy because each training is different. \n",
    "\n",
    "We have intentionally reached a suboptimal solution, so you can have space to build on it!"
   ]
  },
  {
   "cell_type": "code",
   "execution_count": null,
   "id": "5a40da21",
   "metadata": {},
   "outputs": [],
   "source": []
  }
 ],
 "metadata": {
  "kernelspec": {
   "display_name": "py3-TF2.0",
   "language": "python",
   "name": "py3-tf2.0"
  },
  "language_info": {
   "codemirror_mode": {
    "name": "ipython",
    "version": 3
   },
   "file_extension": ".py",
   "mimetype": "text/x-python",
   "name": "python",
   "nbconvert_exporter": "python",
   "pygments_lexer": "ipython3",
   "version": "3.8.17"
  }
 },
 "nbformat": 4,
 "nbformat_minor": 5
}
